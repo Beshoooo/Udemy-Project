{
 "cells": [
  {
   "cell_type": "code",
   "execution_count": 1,
   "id": "d30c52e7-6823-43f4-8a5c-6ac8788655ea",
   "metadata": {},
   "outputs": [],
   "source": [
    "import pandas as pd"
   ]
  },
  {
   "cell_type": "code",
   "execution_count": 10,
   "id": "dc6148c5-e6bc-4401-b40d-e12180ea3aef",
   "metadata": {},
   "outputs": [],
   "source": [
    "df=pd.read_csv(\"udemy_courses (1).csv\")"
   ]
  },
  {
   "cell_type": "code",
   "execution_count": 11,
   "id": "cf86e359-ed28-49aa-bf3e-e2ea36799350",
   "metadata": {},
   "outputs": [
    {
     "data": {
      "text/html": [
       "<div>\n",
       "<style scoped>\n",
       "    .dataframe tbody tr th:only-of-type {\n",
       "        vertical-align: middle;\n",
       "    }\n",
       "\n",
       "    .dataframe tbody tr th {\n",
       "        vertical-align: top;\n",
       "    }\n",
       "\n",
       "    .dataframe thead th {\n",
       "        text-align: right;\n",
       "    }\n",
       "</style>\n",
       "<table border=\"1\" class=\"dataframe\">\n",
       "  <thead>\n",
       "    <tr style=\"text-align: right;\">\n",
       "      <th></th>\n",
       "      <th>course_id</th>\n",
       "      <th>course_title</th>\n",
       "      <th>url</th>\n",
       "      <th>is_paid</th>\n",
       "      <th>price</th>\n",
       "      <th>num_subscribers</th>\n",
       "      <th>num_reviews</th>\n",
       "      <th>num_lectures</th>\n",
       "      <th>level</th>\n",
       "      <th>content_duration</th>\n",
       "      <th>published_timestamp</th>\n",
       "      <th>subject</th>\n",
       "    </tr>\n",
       "  </thead>\n",
       "  <tbody>\n",
       "    <tr>\n",
       "      <th>0</th>\n",
       "      <td>1070968</td>\n",
       "      <td>Ultimate Investment Banking Course</td>\n",
       "      <td>https://www.udemy.com/ultimate-investment-bank...</td>\n",
       "      <td>True</td>\n",
       "      <td>200</td>\n",
       "      <td>2147</td>\n",
       "      <td>23</td>\n",
       "      <td>51</td>\n",
       "      <td>All Levels</td>\n",
       "      <td>1.5</td>\n",
       "      <td>2017-01-18T20:58:58Z</td>\n",
       "      <td>Business Finance</td>\n",
       "    </tr>\n",
       "  </tbody>\n",
       "</table>\n",
       "</div>"
      ],
      "text/plain": [
       "   course_id  ...           subject\n",
       "0    1070968  ...  Business Finance\n",
       "\n",
       "[1 rows x 12 columns]"
      ]
     },
     "execution_count": 11,
     "metadata": {},
     "output_type": "execute_result"
    }
   ],
   "source": [
    "df.head(1)"
   ]
  },
  {
   "cell_type": "markdown",
   "id": "c3c27060-2b3b-44df-b87e-8e8708b5e6c4",
   "metadata": {},
   "source": [
    "Which free courses have the highest number of subscribers and reviews?"
   ]
  },
  {
   "cell_type": "code",
   "execution_count": 86,
   "id": "f2453087-039d-4d5e-8518-71477a360c8b",
   "metadata": {},
   "outputs": [
    {
     "data": {
      "text/plain": [
       "num_subscribers    268923\n",
       "num_reviews          8629\n",
       "dtype: int64"
      ]
     },
     "execution_count": 86,
     "metadata": {},
     "output_type": "execute_result"
    }
   ],
   "source": [
    "df[df['is_paid']== False][['num_subscribers','num_reviews']].max()"
   ]
  },
  {
   "cell_type": "code",
   "execution_count": null,
   "id": "aaf274c1-9005-4842-a1e9-641ef3d22450",
   "metadata": {},
   "outputs": [],
   "source": [
    "select MAX(num_subscribers),MAX(num_reviews) from udemy_courses where is_paid = 'False' "
   ]
  },
  {
   "cell_type": "markdown",
   "id": "7aa928cc-2306-4656-81dc-e498742aa9be",
   "metadata": {},
   "source": [
    "What are the most popular subjects for beginner-level courses with a high number of subscribers?"
   ]
  },
  {
   "cell_type": "code",
   "execution_count": 87,
   "id": "7d544784-21e9-43c8-96e2-510461ee5f67",
   "metadata": {},
   "outputs": [
    {
     "data": {
      "text/plain": [
       "subject            Web Development\n",
       "num_subscribers             161029\n",
       "dtype: object"
      ]
     },
     "execution_count": 87,
     "metadata": {},
     "output_type": "execute_result"
    }
   ],
   "source": [
    "df[(df['level']=='Beginner Level')][['subject','num_subscribers']].max()"
   ]
  },
  {
   "cell_type": "code",
   "execution_count": null,
   "id": "dff8fce0-a342-414d-a046-1a48f8fc96bc",
   "metadata": {},
   "outputs": [],
   "source": [
    "select subject,MAX(num_subscribers) from udemy_courses where level='Beginner Level' group by subject"
   ]
  },
  {
   "cell_type": "markdown",
   "id": "f55e5ede-ac4e-439c-81d5-4dc0bf6e9a73",
   "metadata": {},
   "source": [
    "Which courses offer the longest content duration for free, and which subjects do they belong to?"
   ]
  },
  {
   "cell_type": "code",
   "execution_count": 43,
   "id": "29c52a1e-5ec5-45ee-abbf-ab88fcd0ec78",
   "metadata": {},
   "outputs": [
    {
     "data": {
      "text/plain": [
       "subject             Web Development\n",
       "content_duration               21.0\n",
       "dtype: object"
      ]
     },
     "execution_count": 43,
     "metadata": {},
     "output_type": "execute_result"
    }
   ],
   "source": [
    "df[df['is_paid']== False][['subject','content_duration']].max()"
   ]
  },
  {
   "cell_type": "code",
   "execution_count": null,
   "id": "c48f7ad1-bc31-4954-bd42-c4b036a8c117",
   "metadata": {},
   "outputs": [],
   "source": [
    "select subject,MAX(content_duration) from udemy_courses where is_paid = 'False' group by subject"
   ]
  },
  {
   "cell_type": "markdown",
   "id": "470a4c00-3e26-43f4-8200-f22179a4cdfc",
   "metadata": {},
   "source": [
    "What are the average course prices for beginner, intermediate, and expert-level courses in each subject?"
   ]
  },
  {
   "cell_type": "code",
   "execution_count": 91,
   "id": "a99bb6b7-5fd3-410d-a48c-b83da1d6a2f6",
   "metadata": {},
   "outputs": [
    {
     "data": {
      "text/plain": [
       "subject              level             \n",
       "Business Finance     All Levels             75.201149\n",
       "                     Beginner Level         53.382353\n",
       "                     Expert Level           95.967742\n",
       "                     Intermediate Level     66.054688\n",
       "Graphic Design       All Levels             62.701342\n",
       "                     Beginner Level         53.477366\n",
       "                     Expert Level           70.000000\n",
       "                     Intermediate Level     49.824561\n",
       "Musical Instruments  All Levels             55.978261\n",
       "                     Beginner Level         43.378378\n",
       "                     Expert Level           36.428571\n",
       "                     Intermediate Level     51.039604\n",
       "Web Development      All Levels             82.526555\n",
       "                     Beginner Level         68.363171\n",
       "                     Expert Level          113.666667\n",
       "                     Intermediate Level     71.259259\n",
       "Name: price, dtype: float64"
      ]
     },
     "execution_count": 91,
     "metadata": {},
     "output_type": "execute_result"
    }
   ],
   "source": [
    "df.groupby(['subject','level'])['price'].mean()"
   ]
  },
  {
   "cell_type": "code",
   "execution_count": null,
   "id": "9aef2a25-7033-4314-bb61-713429a8561e",
   "metadata": {},
   "outputs": [],
   "source": [
    "select subject,level,AVG(price) from udemy_courses group by subject,level"
   ]
  },
  {
   "cell_type": "markdown",
   "id": "170403e0-2651-4c3c-a2ee-17e925833f38",
   "metadata": {},
   "source": [
    "Which courses have the highest number of lectures but are free to access?"
   ]
  },
  {
   "cell_type": "code",
   "execution_count": 101,
   "id": "6ba605db-5bd8-4534-880b-4f445c77554b",
   "metadata": {},
   "outputs": [
    {
     "data": {
      "text/plain": [
       "course_title    财务分析与估值建模入门\n",
       "num_lectures            145\n",
       "dtype: object"
      ]
     },
     "execution_count": 101,
     "metadata": {},
     "output_type": "execute_result"
    }
   ],
   "source": [
    "df[df['is_paid']== False][['course_title','num_lectures']].max()"
   ]
  },
  {
   "cell_type": "code",
   "execution_count": null,
   "id": "f3a434f7-e12c-40fa-a469-c08b4a2cf8b7",
   "metadata": {},
   "outputs": [],
   "source": [
    "select MAX(num_lectures) from udemy_courses where is_paid = 'False' "
   ]
  },
  {
   "cell_type": "markdown",
   "id": "d6d64b13-cb40-4d0c-9275-e268ce748810",
   "metadata": {},
   "source": [
    "Which courses have the best price-to-duration ratio (price per hour of content) for students seeking affordable, high-quality education?"
   ]
  },
  {
   "cell_type": "code",
   "execution_count": 108,
   "id": "6ab342c8-ea40-4525-bc75-a41e4ad4c10f",
   "metadata": {},
   "outputs": [],
   "source": [
    "df['PTD']=df['price']/df['content_duration']\n",
    "df['PTD']=df['PTD'].replace(0,1)"
   ]
  },
  {
   "cell_type": "code",
   "execution_count": 110,
   "id": "c01d2b09-d7a7-4b8b-90a1-ee9f0198f4a0",
   "metadata": {},
   "outputs": [
    {
     "data": {
      "text/plain": [
       "892    Mutual Funds for Investors in Retirement Accounts\n",
       "Name: course_title, dtype: object"
      ]
     },
     "execution_count": 110,
     "metadata": {},
     "output_type": "execute_result"
    }
   ],
   "source": [
    "df[df['PTD']==df['PTD'].max()]['course_title']"
   ]
  },
  {
   "cell_type": "code",
   "execution_count": null,
   "id": "23ff568e-38b8-4747-a709-936c9d932806",
   "metadata": {},
   "outputs": [],
   "source": [
    "select max(price/nullif(content_duration,0)) from udemy_courses"
   ]
  },
  {
   "cell_type": "markdown",
   "id": "cdba3b9c-2392-4278-97f0-cf9b3bebee51",
   "metadata": {},
   "source": [
    "Which subjects have the most highly reviewed intermediate-level courses?"
   ]
  },
  {
   "cell_type": "code",
   "execution_count": 60,
   "id": "1033a3aa-2369-402f-830a-e0c152bf7cd7",
   "metadata": {},
   "outputs": [
    {
     "data": {
      "text/plain": [
       "subject        Web Development\n",
       "num_reviews               3326\n",
       "dtype: object"
      ]
     },
     "execution_count": 60,
     "metadata": {},
     "output_type": "execute_result"
    }
   ],
   "source": [
    "df[df['level']=='Intermediate Level'][['subject','num_reviews']].max()"
   ]
  },
  {
   "cell_type": "code",
   "execution_count": null,
   "id": "d3f540dc-6e35-4c8a-9b0e-bb0f73f84a47",
   "metadata": {},
   "outputs": [],
   "source": [
    "select subject,max(num_reviews) from udemy_courses where level='Intermediate Level' group by subject"
   ]
  },
  {
   "cell_type": "markdown",
   "id": "03dc016a-863d-4d9e-a7b9-f6332590901e",
   "metadata": {},
   "source": [
    "Which paid courses have generated the most revenue based on price and subscriber count, and which subjects do they cover?"
   ]
  },
  {
   "cell_type": "code",
   "execution_count": 111,
   "id": "af2989ab-fcf8-47ed-9f23-e1f2836e619d",
   "metadata": {},
   "outputs": [
    {
     "data": {
      "text/plain": [
       "price                          200\n",
       "subject            Web Development\n",
       "num_subscribers             268923\n",
       "dtype: object"
      ]
     },
     "execution_count": 111,
     "metadata": {},
     "output_type": "execute_result"
    }
   ],
   "source": [
    "df[['price','subject','num_subscribers']].max()"
   ]
  },
  {
   "cell_type": "code",
   "execution_count": null,
   "id": "d2ce5d71-3c3f-404d-9047-089af3d4a3a0",
   "metadata": {},
   "outputs": [],
   "source": [
    "select subject,max(num_subscribers),MAX(price) from udemy_courses group by subject"
   ]
  },
  {
   "cell_type": "markdown",
   "id": "0dbae3d3-1211-4ef2-928a-384092b7c51a",
   "metadata": {},
   "source": [
    "What is the average price of paid courses across different subjects, and which subjects have the highest pricing potential?"
   ]
  },
  {
   "cell_type": "code",
   "execution_count": 114,
   "id": "864a67a4-c509-46fe-968d-922f0fa9274f",
   "metadata": {},
   "outputs": [
    {
     "data": {
      "text/plain": [
       "subject\n",
       "Business Finance       74.540491\n",
       "Graphic Design         61.390845\n",
       "Musical Instruments    53.154574\n",
       "Web Development        86.635426\n",
       "Name: price, dtype: float64"
      ]
     },
     "execution_count": 114,
     "metadata": {},
     "output_type": "execute_result"
    }
   ],
   "source": [
    "df[df['is_paid']==True].groupby('subject')['price'].mean()"
   ]
  },
  {
   "cell_type": "code",
   "execution_count": null,
   "id": "571ccda3-b887-4021-b0bf-16ac36f97038",
   "metadata": {},
   "outputs": [],
   "source": [
    "select subject,avg(price) from udemy_courses where is_paid='True' group by subject"
   ]
  },
  {
   "cell_type": "markdown",
   "id": "c7f42a69-8dba-4971-beb8-0adf256bdc2e",
   "metadata": {},
   "source": [
    "Which courses published in the last two years have attracted the most subscribers, and what subjects do they cover?"
   ]
  },
  {
   "cell_type": "code",
   "execution_count": 68,
   "id": "ae507924-b1ec-44b0-ab8c-77b627e216df",
   "metadata": {},
   "outputs": [],
   "source": [
    "df['year']=pd.to_datetime(df['published_timestamp']).dt.year"
   ]
  },
  {
   "cell_type": "code",
   "execution_count": 72,
   "id": "e94f888e-652d-4f8b-9817-2385fc828123",
   "metadata": {},
   "outputs": [
    {
     "data": {
      "text/html": [
       "<div>\n",
       "<style scoped>\n",
       "    .dataframe tbody tr th:only-of-type {\n",
       "        vertical-align: middle;\n",
       "    }\n",
       "\n",
       "    .dataframe tbody tr th {\n",
       "        vertical-align: top;\n",
       "    }\n",
       "\n",
       "    .dataframe thead th {\n",
       "        text-align: right;\n",
       "    }\n",
       "</style>\n",
       "<table border=\"1\" class=\"dataframe\">\n",
       "  <thead>\n",
       "    <tr style=\"text-align: right;\">\n",
       "      <th></th>\n",
       "      <th>num_subscribers</th>\n",
       "      <th>subject</th>\n",
       "    </tr>\n",
       "    <tr>\n",
       "      <th>year</th>\n",
       "      <th></th>\n",
       "      <th></th>\n",
       "    </tr>\n",
       "  </thead>\n",
       "  <tbody>\n",
       "    <tr>\n",
       "      <th>2011</th>\n",
       "      <td>69186</td>\n",
       "      <td>Web Development</td>\n",
       "    </tr>\n",
       "    <tr>\n",
       "      <th>2012</th>\n",
       "      <td>101154</td>\n",
       "      <td>Web Development</td>\n",
       "    </tr>\n",
       "    <tr>\n",
       "      <th>2013</th>\n",
       "      <td>268923</td>\n",
       "      <td>Web Development</td>\n",
       "    </tr>\n",
       "    <tr>\n",
       "      <th>2014</th>\n",
       "      <td>120291</td>\n",
       "      <td>Web Development</td>\n",
       "    </tr>\n",
       "    <tr>\n",
       "      <th>2015</th>\n",
       "      <td>121584</td>\n",
       "      <td>Web Development</td>\n",
       "    </tr>\n",
       "    <tr>\n",
       "      <th>2016</th>\n",
       "      <td>114512</td>\n",
       "      <td>Web Development</td>\n",
       "    </tr>\n",
       "    <tr>\n",
       "      <th>2017</th>\n",
       "      <td>26742</td>\n",
       "      <td>Web Development</td>\n",
       "    </tr>\n",
       "  </tbody>\n",
       "</table>\n",
       "</div>"
      ],
      "text/plain": [
       "      num_subscribers          subject\n",
       "year                                  \n",
       "2011            69186  Web Development\n",
       "2012           101154  Web Development\n",
       "2013           268923  Web Development\n",
       "2014           120291  Web Development\n",
       "2015           121584  Web Development\n",
       "2016           114512  Web Development\n",
       "2017            26742  Web Development"
      ]
     },
     "execution_count": 72,
     "metadata": {},
     "output_type": "execute_result"
    }
   ],
   "source": [
    "df.groupby('year')[['num_subscribers','subject']].max()"
   ]
  },
  {
   "cell_type": "code",
   "execution_count": null,
   "id": "d59f4d49-d56e-4493-8c19-fc1c7a06a661",
   "metadata": {},
   "outputs": [],
   "source": [
    "select year(published_timestamp),max(num_subscribers) from udemy_courses group by year(published_timestamp)"
   ]
  },
  {
   "cell_type": "markdown",
   "id": "e4391109-4db4-4d6f-a2ea-7f8644f9b1c7",
   "metadata": {},
   "source": [
    "How does the number of lectures and content duration influence the price of a course in different subjects?"
   ]
  },
  {
   "cell_type": "code",
   "execution_count": 74,
   "id": "7f79c244-1f17-4b6c-8304-9e193064f5d6",
   "metadata": {},
   "outputs": [
    {
     "data": {
      "text/plain": [
       "0.33016044816281187"
      ]
     },
     "execution_count": 74,
     "metadata": {},
     "output_type": "execute_result"
    }
   ],
   "source": [
    "df.num_lectures.corr(df['price'])"
   ]
  },
  {
   "cell_type": "code",
   "execution_count": null,
   "id": "852a81fc-774e-45c2-8e07-077fecec7170",
   "metadata": {},
   "outputs": [],
   "source": [
    "select CORRELATION(num_lectures,price) from udemy_courses"
   ]
  },
  {
   "cell_type": "markdown",
   "id": "a2729cff-5db5-477b-bbdd-8b0ce6db846d",
   "metadata": {},
   "source": [
    "Which subjects have the highest number of free courses with a high subscriber count, and how do paid courses compare in these subjects?"
   ]
  },
  {
   "cell_type": "code",
   "execution_count": 76,
   "id": "207ed205-20b5-4d0d-8605-f77b7f508476",
   "metadata": {},
   "outputs": [
    {
     "data": {
      "text/plain": [
       "subject\n",
       "Business Finance        65576\n",
       "Graphic Design          53851\n",
       "Musical Instruments    101154\n",
       "Web Development        268923\n",
       "Name: num_subscribers, dtype: int64"
      ]
     },
     "execution_count": 76,
     "metadata": {},
     "output_type": "execute_result"
    }
   ],
   "source": [
    "df[df['is_paid']==False].groupby(df['subject'])['num_subscribers'].max()"
   ]
  },
  {
   "cell_type": "code",
   "execution_count": 77,
   "id": "ba289dc1-1d83-456a-9470-3ce1724ea129",
   "metadata": {},
   "outputs": [
    {
     "data": {
      "text/plain": [
       "0.9396089587630461"
      ]
     },
     "execution_count": 77,
     "metadata": {},
     "output_type": "execute_result"
    }
   ],
   "source": [
    "df[df['is_paid']==False].groupby(df['subject'])['num_subscribers'].max().corr(df[df['is_paid']==True].groupby(df['subject'])['num_subscribers'].max())"
   ]
  },
  {
   "cell_type": "code",
   "execution_count": null,
   "id": "4f5dc447-702e-46bc-a4b8-bb59c102b147",
   "metadata": {},
   "outputs": [],
   "source": [
    "select subject,MAX(num_subscribers) from udemy_courses where is_paid='False' group by subject"
   ]
  },
  {
   "cell_type": "markdown",
   "id": "19ae78d5-560f-4040-b3e5-6ee52fc461dc",
   "metadata": {},
   "source": [
    "What is the relationship between the number of reviews and price across different subjects, and how can this data be used to optimize pricing strategies?"
   ]
  },
  {
   "cell_type": "code",
   "execution_count": 81,
   "id": "d1e5b47f-0e4e-4e4c-88a5-a0ac7b38d7cd",
   "metadata": {},
   "outputs": [
    {
     "data": {
      "text/plain": [
       "subject\n",
       "Business Finance       0.065635\n",
       "Graphic Design         0.074348\n",
       "Musical Instruments    0.171079\n",
       "Web Development        0.131607\n",
       "Name: num_reviews, dtype: float64"
      ]
     },
     "execution_count": 81,
     "metadata": {},
     "output_type": "execute_result"
    }
   ],
   "source": [
    "df.groupby('subject')['num_reviews'].corr(df['price'])"
   ]
  },
  {
   "cell_type": "code",
   "execution_count": null,
   "id": "dd4743cc-59ba-418a-b941-1f6a1e58371e",
   "metadata": {},
   "outputs": [],
   "source": []
  },
  {
   "cell_type": "markdown",
   "id": "5007d2ec-f131-4f15-a0a9-2cfdb831424a",
   "metadata": {},
   "source": [
    "Which subjects have the highest ratio of paid to free courses, and how does this affect the number of subscribers in each subject?"
   ]
  },
  {
   "cell_type": "code",
   "execution_count": 85,
   "id": "1ca46fd3-5213-4529-89d4-7e7ca00797d9",
   "metadata": {},
   "outputs": [
    {
     "data": {
      "text/plain": [
       "subject              is_paid\n",
       "Business Finance     True       1099\n",
       "                     False        96\n",
       "Graphic Design       True        568\n",
       "                     False        35\n",
       "Musical Instruments  True        634\n",
       "                     False        46\n",
       "Web Development      True       1067\n",
       "                     False       133\n",
       "Name: count, dtype: int64"
      ]
     },
     "execution_count": 85,
     "metadata": {},
     "output_type": "execute_result"
    }
   ],
   "source": [
    "df.groupby('subject')['is_paid'].value_counts()"
   ]
  },
  {
   "cell_type": "code",
   "execution_count": null,
   "id": "373f5567-7d6b-451e-9887-a0920a4553d0",
   "metadata": {},
   "outputs": [],
   "source": [
    "select subject,is_paid,COUNT(is_paid) from udemy_courses group by subject,is_paid"
   ]
  },
  {
   "cell_type": "markdown",
   "id": "2ae224cb-deaf-4219-8efa-0c3188fdfbbd",
   "metadata": {},
   "source": [
    "Which factors (price, content duration, subject) are most predictive of high revenue generation for courses, and how can businesses use these insights to design profitable courses?"
   ]
  },
  {
   "cell_type": "code",
   "execution_count": null,
   "id": "9a74511a-99de-4205-a3c7-fd62582502dd",
   "metadata": {},
   "outputs": [],
   "source": []
  },
  {
   "cell_type": "code",
   "execution_count": 78,
   "id": "ea0885ab-3c8d-48d5-af6c-09215e74b203",
   "metadata": {},
   "outputs": [
    {
     "data": {
      "text/html": [
       "<div>\n",
       "<style scoped>\n",
       "    .dataframe tbody tr th:only-of-type {\n",
       "        vertical-align: middle;\n",
       "    }\n",
       "\n",
       "    .dataframe tbody tr th {\n",
       "        vertical-align: top;\n",
       "    }\n",
       "\n",
       "    .dataframe thead th {\n",
       "        text-align: right;\n",
       "    }\n",
       "</style>\n",
       "<table border=\"1\" class=\"dataframe\">\n",
       "  <thead>\n",
       "    <tr style=\"text-align: right;\">\n",
       "      <th></th>\n",
       "      <th>course_id</th>\n",
       "      <th>course_title</th>\n",
       "      <th>url</th>\n",
       "      <th>is_paid</th>\n",
       "      <th>price</th>\n",
       "      <th>num_subscribers</th>\n",
       "      <th>num_reviews</th>\n",
       "      <th>num_lectures</th>\n",
       "      <th>level</th>\n",
       "      <th>content_duration</th>\n",
       "      <th>published_timestamp</th>\n",
       "      <th>subject</th>\n",
       "      <th>PTD</th>\n",
       "      <th>year</th>\n",
       "    </tr>\n",
       "  </thead>\n",
       "  <tbody>\n",
       "    <tr>\n",
       "      <th>0</th>\n",
       "      <td>1070968</td>\n",
       "      <td>Ultimate Investment Banking Course</td>\n",
       "      <td>https://www.udemy.com/ultimate-investment-bank...</td>\n",
       "      <td>True</td>\n",
       "      <td>200</td>\n",
       "      <td>2147</td>\n",
       "      <td>23</td>\n",
       "      <td>51</td>\n",
       "      <td>All Levels</td>\n",
       "      <td>1.5</td>\n",
       "      <td>2017-01-18T20:58:58Z</td>\n",
       "      <td>Business Finance</td>\n",
       "      <td>133.333333</td>\n",
       "      <td>2017</td>\n",
       "    </tr>\n",
       "    <tr>\n",
       "      <th>1</th>\n",
       "      <td>1113822</td>\n",
       "      <td>Complete GST Course &amp; Certification - Grow You...</td>\n",
       "      <td>https://www.udemy.com/goods-and-services-tax/</td>\n",
       "      <td>True</td>\n",
       "      <td>75</td>\n",
       "      <td>2792</td>\n",
       "      <td>923</td>\n",
       "      <td>274</td>\n",
       "      <td>All Levels</td>\n",
       "      <td>39.0</td>\n",
       "      <td>2017-03-09T16:34:20Z</td>\n",
       "      <td>Business Finance</td>\n",
       "      <td>1.923077</td>\n",
       "      <td>2017</td>\n",
       "    </tr>\n",
       "    <tr>\n",
       "      <th>2</th>\n",
       "      <td>1006314</td>\n",
       "      <td>Financial Modeling for Business Analysts and C...</td>\n",
       "      <td>https://www.udemy.com/financial-modeling-for-b...</td>\n",
       "      <td>True</td>\n",
       "      <td>45</td>\n",
       "      <td>2174</td>\n",
       "      <td>74</td>\n",
       "      <td>51</td>\n",
       "      <td>Intermediate Level</td>\n",
       "      <td>2.5</td>\n",
       "      <td>2016-12-19T19:26:30Z</td>\n",
       "      <td>Business Finance</td>\n",
       "      <td>18.000000</td>\n",
       "      <td>2016</td>\n",
       "    </tr>\n",
       "    <tr>\n",
       "      <th>3</th>\n",
       "      <td>1210588</td>\n",
       "      <td>Beginner to Pro - Financial Analysis in Excel ...</td>\n",
       "      <td>https://www.udemy.com/complete-excel-finance-c...</td>\n",
       "      <td>True</td>\n",
       "      <td>95</td>\n",
       "      <td>2451</td>\n",
       "      <td>11</td>\n",
       "      <td>36</td>\n",
       "      <td>All Levels</td>\n",
       "      <td>3.0</td>\n",
       "      <td>2017-05-30T20:07:24Z</td>\n",
       "      <td>Business Finance</td>\n",
       "      <td>31.666667</td>\n",
       "      <td>2017</td>\n",
       "    </tr>\n",
       "    <tr>\n",
       "      <th>4</th>\n",
       "      <td>1011058</td>\n",
       "      <td>How To Maximize Your Profits Trading Options</td>\n",
       "      <td>https://www.udemy.com/how-to-maximize-your-pro...</td>\n",
       "      <td>True</td>\n",
       "      <td>200</td>\n",
       "      <td>1276</td>\n",
       "      <td>45</td>\n",
       "      <td>26</td>\n",
       "      <td>Intermediate Level</td>\n",
       "      <td>2.0</td>\n",
       "      <td>2016-12-13T14:57:18Z</td>\n",
       "      <td>Business Finance</td>\n",
       "      <td>100.000000</td>\n",
       "      <td>2016</td>\n",
       "    </tr>\n",
       "    <tr>\n",
       "      <th>...</th>\n",
       "      <td>...</td>\n",
       "      <td>...</td>\n",
       "      <td>...</td>\n",
       "      <td>...</td>\n",
       "      <td>...</td>\n",
       "      <td>...</td>\n",
       "      <td>...</td>\n",
       "      <td>...</td>\n",
       "      <td>...</td>\n",
       "      <td>...</td>\n",
       "      <td>...</td>\n",
       "      <td>...</td>\n",
       "      <td>...</td>\n",
       "      <td>...</td>\n",
       "    </tr>\n",
       "    <tr>\n",
       "      <th>3673</th>\n",
       "      <td>775618</td>\n",
       "      <td>Learn jQuery from Scratch - Master of JavaScri...</td>\n",
       "      <td>https://www.udemy.com/easy-jquery-for-beginner...</td>\n",
       "      <td>True</td>\n",
       "      <td>100</td>\n",
       "      <td>1040</td>\n",
       "      <td>14</td>\n",
       "      <td>21</td>\n",
       "      <td>All Levels</td>\n",
       "      <td>2.0</td>\n",
       "      <td>2016-06-14T17:36:46Z</td>\n",
       "      <td>Web Development</td>\n",
       "      <td>50.000000</td>\n",
       "      <td>2016</td>\n",
       "    </tr>\n",
       "    <tr>\n",
       "      <th>3674</th>\n",
       "      <td>1088178</td>\n",
       "      <td>How To Design A WordPress Website With No Codi...</td>\n",
       "      <td>https://www.udemy.com/how-to-make-a-wordpress-...</td>\n",
       "      <td>True</td>\n",
       "      <td>25</td>\n",
       "      <td>306</td>\n",
       "      <td>3</td>\n",
       "      <td>42</td>\n",
       "      <td>Beginner Level</td>\n",
       "      <td>3.5</td>\n",
       "      <td>2017-03-10T22:24:30Z</td>\n",
       "      <td>Web Development</td>\n",
       "      <td>7.142857</td>\n",
       "      <td>2017</td>\n",
       "    </tr>\n",
       "    <tr>\n",
       "      <th>3675</th>\n",
       "      <td>635248</td>\n",
       "      <td>Learn and Build using Polymer</td>\n",
       "      <td>https://www.udemy.com/learn-and-build-using-po...</td>\n",
       "      <td>True</td>\n",
       "      <td>40</td>\n",
       "      <td>513</td>\n",
       "      <td>169</td>\n",
       "      <td>48</td>\n",
       "      <td>All Levels</td>\n",
       "      <td>3.5</td>\n",
       "      <td>2015-12-30T16:41:42Z</td>\n",
       "      <td>Web Development</td>\n",
       "      <td>11.428571</td>\n",
       "      <td>2015</td>\n",
       "    </tr>\n",
       "    <tr>\n",
       "      <th>3676</th>\n",
       "      <td>905096</td>\n",
       "      <td>CSS Animations: Create Amazing Effects on Your...</td>\n",
       "      <td>https://www.udemy.com/css-animations-create-am...</td>\n",
       "      <td>True</td>\n",
       "      <td>50</td>\n",
       "      <td>300</td>\n",
       "      <td>31</td>\n",
       "      <td>38</td>\n",
       "      <td>All Levels</td>\n",
       "      <td>3.0</td>\n",
       "      <td>2016-08-11T19:06:15Z</td>\n",
       "      <td>Web Development</td>\n",
       "      <td>16.666667</td>\n",
       "      <td>2016</td>\n",
       "    </tr>\n",
       "    <tr>\n",
       "      <th>3677</th>\n",
       "      <td>297602</td>\n",
       "      <td>Using MODX CMS to Build Websites: A Beginner's...</td>\n",
       "      <td>https://www.udemy.com/using-modx-cms-to-build-...</td>\n",
       "      <td>True</td>\n",
       "      <td>45</td>\n",
       "      <td>901</td>\n",
       "      <td>36</td>\n",
       "      <td>20</td>\n",
       "      <td>Beginner Level</td>\n",
       "      <td>2.0</td>\n",
       "      <td>2014-09-28T19:51:11Z</td>\n",
       "      <td>Web Development</td>\n",
       "      <td>22.500000</td>\n",
       "      <td>2014</td>\n",
       "    </tr>\n",
       "  </tbody>\n",
       "</table>\n",
       "<p>3678 rows × 14 columns</p>\n",
       "</div>"
      ],
      "text/plain": [
       "      course_id  ...  year\n",
       "0       1070968  ...  2017\n",
       "1       1113822  ...  2017\n",
       "2       1006314  ...  2016\n",
       "3       1210588  ...  2017\n",
       "4       1011058  ...  2016\n",
       "...         ...  ...   ...\n",
       "3673     775618  ...  2016\n",
       "3674    1088178  ...  2017\n",
       "3675     635248  ...  2015\n",
       "3676     905096  ...  2016\n",
       "3677     297602  ...  2014\n",
       "\n",
       "[3678 rows x 14 columns]"
      ]
     },
     "execution_count": 78,
     "metadata": {},
     "output_type": "execute_result"
    }
   ],
   "source": [
    "df"
   ]
  },
  {
   "cell_type": "code",
   "execution_count": null,
   "id": "ba3f3b9b-35d0-4a46-9548-973bbe3ccb5f",
   "metadata": {},
   "outputs": [],
   "source": []
  }
 ],
 "metadata": {
  "kernelspec": {
   "display_name": "Python 3 (ipykernel)",
   "language": "python",
   "name": "python3"
  },
  "language_info": {
   "codemirror_mode": {
    "name": "ipython",
    "version": 3
   },
   "file_extension": ".py",
   "mimetype": "text/x-python",
   "name": "python",
   "nbconvert_exporter": "python",
   "pygments_lexer": "ipython3",
   "version": "3.12.4"
  }
 },
 "nbformat": 4,
 "nbformat_minor": 5
}
